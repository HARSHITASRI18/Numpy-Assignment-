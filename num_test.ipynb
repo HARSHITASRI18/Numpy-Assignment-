{
 "cells": [
  {
   "cell_type": "code",
   "execution_count": 1,
   "metadata": {},
   "outputs": [
    {
     "data": {
      "text/plain": [
       "'1.26.4'"
      ]
     },
     "execution_count": 1,
     "metadata": {},
     "output_type": "execute_result"
    }
   ],
   "source": [
    "import numpy as np\n",
    "np.__version__"
   ]
  },
  {
   "cell_type": "code",
   "execution_count": 2,
   "metadata": {},
   "outputs": [
    {
     "name": "stdout",
     "output_type": "stream",
     "text": [
      "Array: [0 1 2 3 4 5]\n",
      "Data type: int32\n"
     ]
    }
   ],
   "source": [
    "#Create a NumPy array arr of integers from 0 to 5 and print its data type.\n",
    "\n",
    "import numpy as np \n",
    "arr = np.arange(6)\n",
    "print(\"Array:\",arr)\n",
    "print(\"Data type:\", arr.dtype)\n"
   ]
  },
  {
   "cell_type": "code",
   "execution_count": 7,
   "metadata": {},
   "outputs": [
    {
     "name": "stdout",
     "output_type": "stream",
     "text": [
      "float data type\n"
     ]
    }
   ],
   "source": [
    "#Given a NumPy array 'arr', check if its data type is float64.\n",
    "# arr = np.array([1.5,2.6,3.7])\n",
    "\n",
    "import numpy as np \n",
    "arr = np.array([1.5,2.6,3.7])\n",
    "is_float64 = arr.dtype = np.float64\n",
    "print(\"float data type\")\n",
    "\n",
    "\n"
   ]
  },
  {
   "cell_type": "code",
   "execution_count": 9,
   "metadata": {},
   "outputs": [
    {
     "name": "stdout",
     "output_type": "stream",
     "text": [
      "Array: [3.+4.j 2.+8.j 6.+5.j]\n",
      "Data type: complex128\n"
     ]
    }
   ],
   "source": [
    "# Create a NumPy array 'arr' with a data type of complex128 containing three complex numbers.\n",
    "\n",
    "import numpy as np \n",
    "arr = np.array([3+4j,2+8j,6+5j],dtype = np.complex128)\n",
    "print(\"Array:\",arr)\n",
    "print(\"Data type:\",arr.dtype)\n"
   ]
  },
  {
   "cell_type": "code",
   "execution_count": 11,
   "metadata": {},
   "outputs": [
    {
     "name": "stdout",
     "output_type": "stream",
     "text": [
      "Array with float data type: [1 2 3 4 5 6 7 8 9]\n",
      "Data type: float32\n"
     ]
    }
   ],
   "source": [
    "# Convert an existing NumPy array 'arr' of integers to float32 data type.\n",
    "import numpy as np \n",
    "\n",
    "arr = np.array([1,2,3,4,5,6,7,8,9])\n",
    "arr_float32 = arr.astype(np.float32)\n",
    "\n",
    "print(\"Array with float data type:\",arr)\n",
    "print(\"Data type:\",arr_float32.dtype)"
   ]
  },
  {
   "cell_type": "code",
   "execution_count": 12,
   "metadata": {},
   "outputs": [
    {
     "name": "stdout",
     "output_type": "stream",
     "text": [
      "Array with float32 data type: [1.1234567 2.3246778 3.2344309]\n",
      "Data type: float32\n"
     ]
    }
   ],
   "source": [
    "#Given a NumPy array 'arr' with float64 data type, convert it to float32 to reduce decimal precision.\n",
    "import numpy as np \n",
    "\n",
    "arr = np.array([1.1234567,2.3246778,3.2344309],dtype = np.float64)\n",
    "arr_float32 = arr.astype(np.float32)\n",
    "\n",
    "print(\"Array with float32 data type:\",arr)\n",
    "print(\"Data type:\",arr_float32.dtype)"
   ]
  },
  {
   "cell_type": "code",
   "execution_count": 17,
   "metadata": {},
   "outputs": [
    {
     "name": "stdout",
     "output_type": "stream",
     "text": [
      "Shape: (2, 3)\n",
      "Size: 6\n",
      "Data type: int32\n"
     ]
    }
   ],
   "source": [
    "#Write a function array_attributes that takes a NumPy array as input and returns its shape, size, and data type\n",
    "import numpy as np\n",
    "\n",
    "def array_attributes(arr):\n",
    "    \n",
    "    shape = arr.shape\n",
    "    size = arr.size\n",
    "    dtype = arr.dtype\n",
    "    return shape, size, dtype\n",
    "\n",
    "arr = np.array([[1, 2, 3], [4, 5, 6]], dtype=np.int32)\n",
    "shape, size, dtype = array_attributes(arr)\n",
    "print(\"Shape:\", shape)\n",
    "print(\"Size:\", size)\n",
    "print(\"Data type:\", dtype)\n",
    "\n",
    "\n"
   ]
  },
  {
   "cell_type": "code",
   "execution_count": 19,
   "metadata": {},
   "outputs": [
    {
     "name": "stdout",
     "output_type": "stream",
     "text": [
      "2\n"
     ]
    }
   ],
   "source": [
    "#Create a function array_dimension that takes a NumPy array as input and returns its dimensionality.\n",
    "import numpy as np\n",
    "arr = np.array([[1,2,3,4],[5,6,7,8]])\n",
    "print(arr.ndim)\n",
    "\n"
   ]
  },
  {
   "cell_type": "code",
   "execution_count": 26,
   "metadata": {},
   "outputs": [
    {
     "name": "stdout",
     "output_type": "stream",
     "text": [
      "Item size: 4 bytes\n",
      "Total size: 20 bytes\n"
     ]
    }
   ],
   "source": [
    "#Design a function item_size_info that takes a NumPy array as input and returns the item size and the total size in bytes\n",
    "import numpy as np\n",
    "\n",
    "def item_size_info(array):\n",
    "    item_size = array.itemsize\n",
    "    total_size = array.nbytes\n",
    "    return item_size, total_size\n",
    "\n",
    "if __name__ == \"__main__\":\n",
    "    array = np.array([1, 2, 3, 4, 5])\n",
    "    item_size, total_size = item_size_info(array)\n",
    "    print(f\"Item size: {item_size} bytes\")\n",
    "    print(f\"Total size: {total_size} bytes\")\n",
    "\n",
    "\n"
   ]
  },
  {
   "cell_type": "code",
   "execution_count": 29,
   "metadata": {},
   "outputs": [
    {
     "name": "stdout",
     "output_type": "stream",
     "text": [
      "[0. 0. 0. 0. 0. 0.]\n"
     ]
    }
   ],
   "source": [
    "#Create a function `create_zeros_array` that takes an integer `n` as input and returns a NumPy array of zeros with `n` elements.\n",
    "import numpy as np \n",
    "n = 6\n",
    "create_zeros_array = np.zeros(n)\n",
    "print(create_zeros_array)\n"
   ]
  },
  {
   "cell_type": "code",
   "execution_count": 34,
   "metadata": {},
   "outputs": [
    {
     "name": "stdout",
     "output_type": "stream",
     "text": [
      "Matrix: [[1. 1. 1. 1.]\n",
      " [1. 1. 1. 1.]\n",
      " [1. 1. 1. 1.]]\n"
     ]
    }
   ],
   "source": [
    "#Write a function `create_ones_matrix` that takes integers `rows` and `cols` as inputs and generates a 2D NumPy array filled with ones of size `rows x cols`.\n",
    "import numpy.matlib as nm\n",
    "matrix = nm.ones((3,4))\n",
    "print(\"Matrix:\",matrix)\n"
   ]
  },
  {
   "cell_type": "code",
   "execution_count": 36,
   "metadata": {},
   "outputs": [
    {
     "name": "stdout",
     "output_type": "stream",
     "text": [
      "[ 0  2  4  6  8 10]\n"
     ]
    }
   ],
   "source": [
    "#Write a function `generate_range_array` that takes three integers start, stop, and step as arguments and creates a NumPy array with a range starting from `start`, ending at stop (exclusive), and with the specified 'step'ArithmeticError\n",
    "import numpy as np \n",
    "arr = np.arange(0,11,2)\n",
    "print(arr)"
   ]
  },
  {
   "cell_type": "code",
   "execution_count": 38,
   "metadata": {},
   "outputs": [
    {
     "name": "stdout",
     "output_type": "stream",
     "text": [
      "[0.   0.25 0.5  0.75 1.  ]\n"
     ]
    }
   ],
   "source": [
    "#Design a function `generate_linear_space` that takes two floats `start`, `stop`, and an integer `num` as arguments and generates a NumPy array with num equally spaced values between `start` and `stop` \n",
    "import numpy as np \n",
    "arr = np.linspace(0.0,1.0,5)\n",
    "print(arr)\n"
   ]
  },
  {
   "cell_type": "code",
   "execution_count": 39,
   "metadata": {},
   "outputs": [
    {
     "name": "stdout",
     "output_type": "stream",
     "text": [
      "[[1. 0. 0. 0. 0.]\n",
      " [0. 1. 0. 0. 0.]\n",
      " [0. 0. 1. 0. 0.]\n",
      " [0. 0. 0. 1. 0.]\n",
      " [0. 0. 0. 0. 1.]]\n"
     ]
    }
   ],
   "source": [
    "#Create a function `create_identity_matrix` that takes an integer `n` as input and generates a square identity matrix of size `n x n` using `numpy.eye`.\n",
    "import numpy as np \n",
    "n = 5\n",
    "identity_matrix = np.eye(n)\n",
    "print(identity_matrix)"
   ]
  },
  {
   "cell_type": "code",
   "execution_count": 41,
   "metadata": {},
   "outputs": [
    {
     "name": "stdout",
     "output_type": "stream",
     "text": [
      "['1' '2' 'harshita' 'khushi' '(3+4j)' '(5+6j)' '1.3' '6.2']\n"
     ]
    }
   ],
   "source": [
    "# Write a function that takes a Python list and converts it into a NumPy array\n",
    "import numpy as np\n",
    "list = [1,2,\"harshita\",\"khushi\",3+4j,5+6j,1.3,6.2]\n",
    "arr = np.array(list)\n",
    "print(arr)"
   ]
  },
  {
   "cell_type": "code",
   "execution_count": 42,
   "metadata": {},
   "outputs": [
    {
     "name": "stdout",
     "output_type": "stream",
     "text": [
      "Original array: [10  2  3  4  5]\n",
      "View array: [10  2  3  4  5]\n"
     ]
    }
   ],
   "source": [
    "# Create a NumPy array and demonstrate the use of `numpy.view` to create a new array object with the same data.\n",
    "import numpy as np\n",
    "original_array = np.array([1, 2, 3, 4, 5])\n",
    "\n",
    "view_array = original_array.view()\n",
    "\n",
    "view_array[0] = 10\n",
    "\n",
    "print(\"Original array:\", original_array)\n",
    "print(\"View array:\", view_array)\n",
    "\n"
   ]
  },
  {
   "cell_type": "code",
   "execution_count": 43,
   "metadata": {},
   "outputs": [
    {
     "name": "stdout",
     "output_type": "stream",
     "text": [
      "[12 13 14 15 16 17]\n"
     ]
    }
   ],
   "source": [
    "#Write a function that takes two NumPy arrays and concatenates them along a specified axis.\n",
    "import numpy as np \n",
    "\n",
    "array1 = np.array([12, 13, 14])\n",
    "array2 = np.array([15, 16, 17])\n",
    "\n",
    "concatenated_array = np.concatenate((array1, array2))\n",
    "print(concatenated_array)"
   ]
  },
  {
   "cell_type": "code",
   "execution_count": 65,
   "metadata": {},
   "outputs": [
    {
     "name": "stdout",
     "output_type": "stream",
     "text": [
      "concatenated_array:\n",
      "[[ 1  2  3  7  8]\n",
      " [ 4  5  6 11 12]]\n"
     ]
    }
   ],
   "source": [
    "#Create two NumPy arrays with different shapes and concatenate them horizontally using `numpy' concatenate`.\n",
    "import numpy as np \n",
    "array1 = np.array([[1,2,3],[4,5,6]])\n",
    "array2 = np.array([[7,8],[11,12]])\n",
    "\n",
    "concatenated_array = np.concatenate((array1,array2),axis = 1)\n",
    "print(\"concatenated_array:\",)\n",
    "print(concatenated_array)"
   ]
  },
  {
   "cell_type": "code",
   "execution_count": 66,
   "metadata": {},
   "outputs": [
    {
     "name": "stdout",
     "output_type": "stream",
     "text": [
      "stacks_array:\n",
      "[[1 2 3]\n",
      " [4 5 6]\n",
      " [7 8 9]]\n"
     ]
    }
   ],
   "source": [
    "# Write a function that vertically stacks multiple NumPy arrays given as a list  np.vstack\n",
    "import numpy as np \n",
    "array1 = np.array([[1, 2, 3]])\n",
    "array2 = np.array([[4, 5, 6]])\n",
    "array3 = np.array([[7, 8, 9]])\n",
    "\n",
    "stacks_array = np.vstack((array1,array2,array3))\n",
    "print(\"stacks_array:\",)\n",
    "print(stacks_array)"
   ]
  },
  {
   "cell_type": "code",
   "execution_count": 53,
   "metadata": {},
   "outputs": [
    {
     "name": "stdout",
     "output_type": "stream",
     "text": [
      "Generated Integer Array:\n",
      "[0 2 4 6 8]\n"
     ]
    }
   ],
   "source": [
    "# Write a Python function using NumPy to create an array of integers within a specified range (inclusive) with a given step size.\n",
    "import numpy as np \n",
    "arr = np.arange(0,10,2)\n",
    "print(\"Generated Integer Array:\")\n",
    "print(arr)\n"
   ]
  },
  {
   "cell_type": "code",
   "execution_count": 67,
   "metadata": {},
   "outputs": [
    {
     "name": "stdout",
     "output_type": "stream",
     "text": [
      "Array:\n",
      "[0.         0.22222222 0.44444444 0.66666667 0.88888889 1.11111111\n",
      " 1.33333333 1.55555556 1.77777778 2.        ]\n"
     ]
    }
   ],
   "source": [
    "#Write a Python function using NumPy to generate an array of 10 equally spaced values between 0 and 1 (inclusive).\n",
    "import numpy as np \n",
    "array = np.linspace(0,2,10)\n",
    "print(\"Array:\",)\n",
    "print(array)"
   ]
  },
  {
   "cell_type": "code",
   "execution_count": 68,
   "metadata": {},
   "outputs": [
    {
     "name": "stdout",
     "output_type": "stream",
     "text": [
      "array:\n",
      "[0.         0.22222222 0.44444444 0.66666667 0.88888889 1.11111111\n",
      " 1.33333333 1.55555556 1.77777778 2.        ]\n"
     ]
    }
   ],
   "source": [
    "# Write a Python function using NumPy to create an array of 5 logarithmically spaced values between 1 and 1000 (invclusive).\n",
    "\n",
    "import numpy as np\n",
    "arr = np.logspace(0,3,5)\n",
    "print(\"array:\",)\n",
    "print(array)"
   ]
  },
  {
   "cell_type": "code",
   "execution_count": 5,
   "metadata": {},
   "outputs": [
    {
     "name": "stdout",
     "output_type": "stream",
     "text": [
      "Third_Element\n",
      "30\n"
     ]
    }
   ],
   "source": [
    "#Access the 3rd element from the given NumPy array.\n",
    "# arr = np.array([10,20,30,40,50])\n",
    "import numpy as np\n",
    "arr = np.array([10,20,30,40,50]) \n",
    "third_element = arr[2]\n",
    "print(\"Third_Element\")\n",
    "print(third_element)\n"
   ]
  },
  {
   "cell_type": "code",
   "execution_count": 7,
   "metadata": {},
   "outputs": [
    {
     "name": "stdout",
     "output_type": "stream",
     "text": [
      "6\n"
     ]
    }
   ],
   "source": [
    "#Retrieve the element at index (1, 2) from the 2D NumPy array.\n",
    "# arr_2d = np.array([[1,2,3]\n",
    "#                    [4,5,6]\n",
    "#                    [7,8,9]])\n",
    "import numpy as np\n",
    "\n",
    "arr_2d = np.array([[1, 2, 3],\n",
    "                   [4, 5, 6],\n",
    "                   [7, 8, 9]])\n",
    "element = arr_2d[1, 2]\n",
    "print(element)\n",
    "\n",
    "\n"
   ]
  },
  {
   "cell_type": "code",
   "execution_count": 8,
   "metadata": {},
   "outputs": [
    {
     "name": "stdout",
     "output_type": "stream",
     "text": [
      "[ 8 10  7]\n"
     ]
    }
   ],
   "source": [
    "#Using boolean indexing, extract elements greater than 5 from the given NumPy array.\n",
    "#     arr = np.array([3,8,2,10,5,7])\n",
    "import numpy as np \n",
    "\n",
    "arr = np.array([3,8,2,10,5,7])\n",
    "greater_than_five = arr[arr > 5]\n",
    "print(greater_than_five)"
   ]
  },
  {
   "cell_type": "code",
   "execution_count": 9,
   "metadata": {},
   "outputs": [
    {
     "name": "stdout",
     "output_type": "stream",
     "text": [
      "[3 4 5 6]\n"
     ]
    }
   ],
   "source": [
    "#Perform basic slicing to extract elements from index 2 to 5 (inclusive) from the given NumPy array.\n",
    "#    arr = np.array([1,2,3,4,5,6,7,8,9])\n",
    "import numpy as np \n",
    "arr = np.array([1,2,3,4,5,6,7,8,9])\n",
    "sliced_arr = arr[2:6]\n",
    "print(sliced_arr)\n"
   ]
  },
  {
   "cell_type": "code",
   "execution_count": 11,
   "metadata": {},
   "outputs": [
    {
     "name": "stdout",
     "output_type": "stream",
     "text": [
      "[[2 3]\n",
      " [5 6]]\n"
     ]
    }
   ],
   "source": [
    "# Slice the 2D NumPy array to extract the sub-array `[[2, 3], [5, 6]]` from the given array.\n",
    "#          arr_2d = np.array([[1, 2, 3]\n",
    "#                             [4, 5, 6]\n",
    "#                             [7, 8, 9]])\n",
    "import numpy as np \n",
    "arr_2d = np.array([[1,2,3],\n",
    "                   [4,5,6],\n",
    "                   [7,8,9]])\n",
    "sub_array = arr_2d[0:2 , 1:3]\n",
    "print(sub_array)"
   ]
  },
  {
   "cell_type": "code",
   "execution_count": 4,
   "metadata": {},
   "outputs": [
    {
     "name": "stdout",
     "output_type": "stream",
     "text": [
      "[2 7 6]\n"
     ]
    }
   ],
   "source": [
    "#Write a NumPy function to extract elements in specific order from a given 2D array based on indices provided in another array.\n",
    "import numpy as np\n",
    "array = np.array([[1, 2, 3],\n",
    "                  [4, 5, 6],\n",
    "                  [7, 8, 9]])\n",
    "indices = np.array([(0, 1), (2, 0), (1, 2)])\n",
    "\n",
    "row_indices, col_indices = zip(*indices)\n",
    "\n",
    "extracted_elements = array[row_indices, col_indices]\n",
    "\n",
    "print(extracted_elements)  \n",
    "\n",
    "\n"
   ]
  },
  {
   "cell_type": "code",
   "execution_count": 9,
   "metadata": {},
   "outputs": [
    {
     "name": "stdout",
     "output_type": "stream",
     "text": [
      "[6 7 8 9]\n"
     ]
    }
   ],
   "source": [
    "#Create a NumPy function that filters elements greater than a threshold from a given 1D array using boolean indexing.\n",
    "import numpy as np \n",
    "array = np.array([1,2,3,4,5,6,7,8,9,])\n",
    "threshold = 5\n",
    "filtered_arr = array[array > threshold]\n",
    "print(filtered_arr)"
   ]
  },
  {
   "cell_type": "code",
   "execution_count": 17,
   "metadata": {},
   "outputs": [
    {
     "name": "stdout",
     "output_type": "stream",
     "text": [
      "[10 30 35]\n"
     ]
    }
   ],
   "source": [
    "#Create a NumPy function that extracts elements from a 2D array using row and column indices provided  in separate arrays.\n",
    "import numpy as np \n",
    "array = np.array([[5 , 10 , 15],\n",
    "                  [20 , 25 , 30],\n",
    "                  [35 , 40 , 45]]) \n",
    "\n",
    "row_indices = np.array([0,1,2])\n",
    "column_indices = np.array([1,2,0])\n",
    "extracted_elements = array[row_indices , column_indices]\n",
    "print(extracted_elements)"
   ]
  },
  {
   "cell_type": "code",
   "execution_count": 2,
   "metadata": {},
   "outputs": [
    {
     "name": "stdout",
     "output_type": "stream",
     "text": [
      "[[ 6  7  8]\n",
      " [ 9 10 11]\n",
      " [12 13 14]]\n"
     ]
    }
   ],
   "source": [
    "#36. Given an array arr of shape (3, 3), add a scalar value of 5 to each element using NumPy broadcasting.\n",
    "import numpy as np \n",
    "arr = np.array([[1,2,3],\n",
    "               [4,5,6],\n",
    "               [7,8,9]])\n",
    "arr = arr+5\n",
    "print(arr)"
   ]
  },
  {
   "cell_type": "code",
   "execution_count": 3,
   "metadata": {},
   "outputs": [
    {
     "name": "stdout",
     "output_type": "stream",
     "text": [
      "[[ 2  4  6  8]\n",
      " [15 18 21 24]\n",
      " [36 40 44 48]]\n"
     ]
    }
   ],
   "source": [
    "#37. Consider two arrays arr1 of shape (1, 3) and arr2 of shape (3, 4). Multiply each row of arr2 by the corresponding element in arr1 using NumPy broadcasting.\n",
    "import numpy as np \n",
    "arr1 = np.array([[2,3,4]])\n",
    "arr2 = np.array([[1,2,3,4],\n",
    "                 [5,6,7,8],       \n",
    "                 [9,10,11,12]])\n",
    "array = arr2 * arr1.T \n",
    "print(array)\n"
   ]
  },
  {
   "cell_type": "code",
   "execution_count": 9,
   "metadata": {},
   "outputs": [
    {
     "name": "stdout",
     "output_type": "stream",
     "text": [
      "[[ 11  21  31]\n",
      " [ 42  52  62]\n",
      " [ 73  83  93]\n",
      " [104 114 124]]\n"
     ]
    }
   ],
   "source": [
    "#38. Given a 1D array arr1 of shape (1, 4) and a 2D array arr2 of shape (4, 3), add arr1 to each row of arr2 using NumPy broadcasting\n",
    "import numpy as np\n",
    "arr1 = np.array([1, 2, 3, 4])  \n",
    "arr2 = np.array([[10, 20, 30],\n",
    "                 [40, 50, 60],\n",
    "                 [70, 80, 90],\n",
    "                 [100, 110, 120]])\n",
    "result = arr2 + arr1[:, np.newaxis]\n",
    "\n",
    "print(result)\n"
   ]
  },
  {
   "cell_type": "code",
   "execution_count": 10,
   "metadata": {},
   "outputs": [
    {
     "name": "stdout",
     "output_type": "stream",
     "text": [
      "[[5 6 7]\n",
      " [6 7 8]\n",
      " [7 8 9]]\n"
     ]
    }
   ],
   "source": [
    "#39. Consider two arrays arr1 of shape (3, 1) and arr2 of shape (1, 3). Add these arrays using broadcasting\n",
    "import numpy as np \n",
    "arr1 = np.array([[1],[2],[3]])\n",
    "arr2 = np.array([[4,5,6]])\n",
    "\n",
    "result = arr1 + arr2\n",
    "print(result)"
   ]
  },
  {
   "cell_type": "code",
   "execution_count": 11,
   "metadata": {},
   "outputs": [
    {
     "name": "stdout",
     "output_type": "stream",
     "text": [
      "[[[ 7 14 21]\n",
      "  [32 40 48]]\n",
      "\n",
      " [[ 9 18 27]\n",
      "  [40 50 60]]]\n"
     ]
    }
   ],
   "source": [
    "#40. Given arrays arr1 of shape (2, 3) and arr2 of shape (2, 2), perform multiplication using NumPy broadcasting. Handle the shape incompatibility\n",
    "import numpy as np\n",
    "arr1 = np.array([[1, 2, 3],\n",
    "                 [4, 5, 6]]) \n",
    "arr2 = np.array([[7, 8],\n",
    "                 [9, 10]])    \n",
    "arr2_expanded = arr2[:, :, np.newaxis]  \n",
    "result = arr1 * arr2_expanded\n",
    "\n",
    "print(result)\n"
   ]
  },
  {
   "cell_type": "code",
   "execution_count": 13,
   "metadata": {},
   "outputs": [
    {
     "name": "stdout",
     "output_type": "stream",
     "text": [
      "[[[ 7 14 21]\n",
      "  [32 40 48]]\n",
      "\n",
      " [[ 9 18 27]\n",
      "  [40 50 60]]]\n"
     ]
    }
   ],
   "source": [
    "#calculate column-wise mean mean for the given array:\n",
    "# arr = np.array([[1,2,3] , [4,5,6])\n",
    "import numpy as np \n",
    "arr = np.array([[1,2,3],\n",
    "                [4,5,6]])\n",
    "\n",
    "column_mean = np.mean(arr,axis=0)\n",
    "\n",
    "print(result)"
   ]
  },
  {
   "cell_type": "code",
   "execution_count": 14,
   "metadata": {},
   "outputs": [
    {
     "name": "stdout",
     "output_type": "stream",
     "text": [
      "[3 6]\n"
     ]
    }
   ],
   "source": [
    "#find maximum value in each row of the given array:\n",
    "# arr = np.array([[1,2,3],[4,5,6]])\n",
    "import numpy as np \n",
    "arr = np.array([[1,2,3],\n",
    "                [4,5,6]])\n",
    "\n",
    "row_max = np.max(arr, axis=1)\n",
    "print(row_max)"
   ]
  },
  {
   "cell_type": "code",
   "execution_count": 16,
   "metadata": {},
   "outputs": [
    {
     "name": "stdout",
     "output_type": "stream",
     "text": [
      "[1 1 1]\n"
     ]
    }
   ],
   "source": [
    "# for the given array, find indices of maximum value in each column\n",
    "# arr = np.array([[1,2,3] ,[4,5,6]])\n",
    "\n",
    "import numpy as np \n",
    "arr = np.array([[1,2,3],\n",
    "                [4,5,6]])\n",
    "\n",
    "column_max_indices = np.argmax(arr,axis=0)\n",
    "print(column_max_indices)\n"
   ]
  },
  {
   "cell_type": "code",
   "execution_count": 17,
   "metadata": {},
   "outputs": [
    {
     "name": "stdout",
     "output_type": "stream",
     "text": [
      "[[ 3  5  5]\n",
      " [ 9 11 11]]\n"
     ]
    }
   ],
   "source": [
    "# for the given array, apply custom function to calculate moving sum alongs rows\n",
    "# arr = np.array([[1,2,3],[4,5,6]])\n",
    "\n",
    "import numpy as np \n",
    "arr = np.array([[1,2,3],\n",
    "                [4,5,6]])\n",
    "\n",
    "window_size = 2\n",
    "result = np.zeros_like(arr)\n",
    "\n",
    "result[: , :-1] = arr[: , :-1] + arr[: , 1:]\n",
    "result[: , -1] = arr[:,-2] + arr[: , -1]\n",
    "\n",
    "print(result)"
   ]
  },
  {
   "cell_type": "code",
   "execution_count": 18,
   "metadata": {},
   "outputs": [
    {
     "name": "stdout",
     "output_type": "stream",
     "text": [
      "[False False False]\n"
     ]
    }
   ],
   "source": [
    "# in the given array, check if all elements in eacch column are even\n",
    "# arr = np.array([[2,4,6],[3,5,7]])\n",
    "\n",
    "import numpy as np \n",
    "arr = np.array([[2,4,6],\n",
    "                [3,5,7]])\n",
    "all_even_columns = np.all(arr % 2 == 0 , axis=0)\n",
    "\n",
    "print(all_even_columns)"
   ]
  },
  {
   "cell_type": "code",
   "execution_count": 20,
   "metadata": {},
   "outputs": [
    {
     "name": "stdout",
     "output_type": "stream",
     "text": [
      "['fruit' 'banana' 'grapes' 'pinefruit']\n"
     ]
    }
   ],
   "source": [
    "# 58. Write a function that replaces occurrences of a substring in a NumPy array of strings with a new string.\n",
    "# arr = np.array(['apple','banana','grapes','pineapple])\n",
    "\n",
    "import numpy as np\n",
    "\n",
    "arr = np.array(['apple', 'banana', 'grapes', 'pineapple'])\n",
    "old_substr = 'apple'\n",
    "new_substr = 'fruit'\n",
    "vectorized_replace = np.vectorize(lambda x: x.replace(old_substr, new_substr))\n",
    "\n",
    "result = vectorized_replace(arr)\n",
    "\n",
    "print(result)\n",
    "\n"
   ]
  },
  {
   "cell_type": "code",
   "execution_count": 21,
   "metadata": {},
   "outputs": [
    {
     "name": "stdout",
     "output_type": "stream",
     "text": [
      "['HelloOpen' 'WorldAI']\n"
     ]
    }
   ],
   "source": [
    "# write a function that concatenates strings in a numpy array element-wise.\n",
    "# arr1 = np.array(['Hello', 'World'])\n",
    "# arr2 = np.array(['Open', 'AI'])\n",
    "\n",
    "import numpy as np \n",
    "\n",
    "arr1 = np.array([\"Hello\",\"World\"])\n",
    "arr2 = np.array([\"Open\",\"AI\"])\n",
    "\n",
    "concatenated = np.char.add(arr1,arr2)\n",
    "print(concatenated)"
   ]
  },
  {
   "cell_type": "code",
   "execution_count": 22,
   "metadata": {},
   "outputs": [
    {
     "name": "stdout",
     "output_type": "stream",
     "text": [
      "9\n"
     ]
    }
   ],
   "source": [
    "#60. Write a function that finds the length of the longest string in a NumPy array.\n",
    "# arr = np.array(['apple','banana','grapes','pineapple'])\n",
    "\n",
    "import numpy as np \n",
    " \n",
    "arr = np.array(['apple','banana','grapes','pineapple'])\n",
    "max_length = max(len(x) for x in arr)\n",
    "\n",
    "print(max_length)"
   ]
  },
  {
   "cell_type": "code",
   "execution_count": 23,
   "metadata": {},
   "outputs": [
    {
     "name": "stdout",
     "output_type": "stream",
     "text": [
      "Dataset: [ 685  560  630  193  836  764  708  360   10  724  278  755  805  600\n",
      "   71  473  601  397  315  706  487  552   88  175  601  850  678  538\n",
      "  846   73  778  917  116  977  756  710  848  432  449  851  100  985\n",
      "  178  756  798  660  148  911  424  289  962  266  698  640  545  544\n",
      "  715  245  152  676  511  460  883  184   29  803  129  129  933   54\n",
      "  902  551  489  757  274  336  389  618   43  443  544  889  258  322\n",
      " 1000  938   58  292  871  120  780  431   83   92  897  399  612  566\n",
      "  909  634]\n",
      "Mean: 524.97\n",
      "Median: 551.5\n",
      "Variance: 82414.08910000001\n",
      "Standard Deviation: 287.07854169199067\n"
     ]
    }
   ],
   "source": [
    "# 61. Create a dataset of 100 random integers between 1 and 1000. Compute the mean, median, variance, and standard deviation of the dataset using numpy function\n",
    "import numpy as np\n",
    "np.random.seed(0)\n",
    "dataset = np.random.randint(1, 1001, size=100)\n",
    "\n",
    "mean = np.mean(dataset)\n",
    "median = np.median(dataset)\n",
    "variance = np.var(dataset)\n",
    "std_deviation = np.std(dataset)\n",
    "\n",
    "print(\"Dataset:\", dataset)\n",
    "print(\"Mean:\", mean)\n",
    "print(\"Median:\", median)\n",
    "print(\"Variance:\", variance)\n",
    "print(\"Standard Deviation:\", std_deviation)\n"
   ]
  },
  {
   "cell_type": "code",
   "execution_count": 24,
   "metadata": {},
   "outputs": [
    {
     "name": "stdout",
     "output_type": "stream",
     "text": [
      "Dataset: [ 45  48  65  68  68  10  84  22  37  88  71  89  89  13  59  66  40  88\n",
      "  47  89  82  38  26  78  73  10  21  81  70  80  48  65  83 100  89  50\n",
      "  30  20  20  15  40  33  66  10  58  33  32  75  24  36]\n",
      "25th Percentile: 32.25\n",
      "75th Percentile: 77.25\n"
     ]
    }
   ],
   "source": [
    "# generate an array of 50 random number between 1 and 100. find the 25th and 75th percentile of the dataset \n",
    "import numpy as np\n",
    "\n",
    "np.random.seed(0)\n",
    "\n",
    "dataset = np.random.randint(1, 101, size=50)\n",
    "\n",
    "percentile_25 = np.percentile(dataset, 25)\n",
    "percentile_75 = np.percentile(dataset, 75)\n",
    "\n",
    "print(\"Dataset:\", dataset)\n",
    "print(\"25th Percentile:\", percentile_25)\n",
    "print(\"75th Percentile:\", percentile_75)\n"
   ]
  },
  {
   "cell_type": "code",
   "execution_count": 25,
   "metadata": {},
   "outputs": [
    {
     "name": "stdout",
     "output_type": "stream",
     "text": [
      "Array 1: [0.5488135  0.71518937 0.60276338 0.54488318 0.4236548  0.64589411\n",
      " 0.43758721 0.891773   0.96366276 0.38344152 0.79172504 0.52889492\n",
      " 0.56804456 0.92559664 0.07103606 0.0871293  0.0202184  0.83261985\n",
      " 0.77815675 0.87001215 0.97861834 0.79915856 0.46147936 0.78052918\n",
      " 0.11827443 0.63992102 0.14335329 0.94466892 0.52184832 0.41466194\n",
      " 0.26455561 0.77423369 0.45615033 0.56843395 0.0187898  0.6176355\n",
      " 0.61209572 0.616934   0.94374808 0.6818203  0.3595079  0.43703195\n",
      " 0.6976312  0.06022547 0.66676672 0.67063787 0.21038256 0.1289263\n",
      " 0.31542835 0.36371077 0.57019677 0.43860151 0.98837384 0.10204481\n",
      " 0.20887676 0.16130952 0.65310833 0.2532916  0.46631077 0.24442559\n",
      " 0.15896958 0.11037514 0.65632959 0.13818295 0.19658236 0.36872517\n",
      " 0.82099323 0.09710128 0.83794491 0.09609841 0.97645947 0.4686512\n",
      " 0.97676109 0.60484552 0.73926358 0.03918779 0.28280696 0.12019656\n",
      " 0.2961402  0.11872772 0.31798318 0.41426299 0.0641475  0.69247212\n",
      " 0.56660145 0.26538949 0.52324805 0.09394051 0.5759465  0.9292962\n",
      " 0.31856895 0.66741038 0.13179786 0.7163272  0.28940609 0.18319136\n",
      " 0.58651293 0.02010755 0.82894003 0.00469548]\n",
      "Array 2: [0.67781654 0.27000797 0.73519402 0.96218855 0.24875314 0.57615733\n",
      " 0.59204193 0.57225191 0.22308163 0.95274901 0.44712538 0.84640867\n",
      " 0.69947928 0.29743695 0.81379782 0.39650574 0.8811032  0.58127287\n",
      " 0.88173536 0.69253159 0.72525428 0.50132438 0.95608363 0.6439902\n",
      " 0.42385505 0.60639321 0.0191932  0.30157482 0.66017354 0.29007761\n",
      " 0.61801543 0.4287687  0.13547406 0.29828233 0.56996491 0.59087276\n",
      " 0.57432525 0.65320082 0.65210327 0.43141844 0.8965466  0.36756187\n",
      " 0.43586493 0.89192336 0.80619399 0.70388858 0.10022689 0.91948261\n",
      " 0.7142413  0.99884701 0.1494483  0.86812606 0.16249293 0.61555956\n",
      " 0.12381998 0.84800823 0.80731896 0.56910074 0.4071833  0.069167\n",
      " 0.69742877 0.45354268 0.7220556  0.86638233 0.97552151 0.85580334\n",
      " 0.01171408 0.35997806 0.72999056 0.17162968 0.52103661 0.05433799\n",
      " 0.19999652 0.01852179 0.7936977  0.22392469 0.34535168 0.92808129\n",
      " 0.7044144  0.03183893 0.16469416 0.6214784  0.57722859 0.23789282\n",
      " 0.934214   0.61396596 0.5356328  0.58990998 0.73012203 0.311945\n",
      " 0.39822106 0.20984375 0.18619301 0.94437239 0.7395508  0.49045881\n",
      " 0.22741463 0.25435648 0.05802916 0.43441663]\n",
      "Correlation Coefficient: -0.06610711104791324\n"
     ]
    }
   ],
   "source": [
    "# create two array representing two set of variable. compute the correlation coffecient between these array using numpy corrcoef function.\n",
    "import numpy as np\n",
    "np.random.seed(0)\n",
    "\n",
    "array1 = np.random.rand(100)  \n",
    "array2 = np.random.rand(100)  \n",
    "correlation_coefficient = np.corrcoef(array1, array2)[0, 1]\n",
    "\n",
    "print(\"Array 1:\", array1)\n",
    "print(\"Array 2:\", array2)\n",
    "print(\"Correlation Coefficient:\", correlation_coefficient)\n"
   ]
  },
  {
   "cell_type": "code",
   "execution_count": 26,
   "metadata": {},
   "outputs": [
    {
     "name": "stdout",
     "output_type": "stream",
     "text": [
      "Matrix 1:\n",
      "[[1 2 3]\n",
      " [4 5 6]]\n",
      "\n",
      "Matrix 2:\n",
      "[[ 7  8]\n",
      " [ 9 10]\n",
      " [11 12]]\n",
      "\n",
      "Result of Matrix Multiplication:\n",
      "[[ 58  64]\n",
      " [139 154]]\n"
     ]
    }
   ],
   "source": [
    "#64. Create two matrices and perform matrix multiplication using NumPy's `dot` function.\n",
    "import numpy as np\n",
    "matrix1 = np.array([[1, 2, 3],\n",
    "                    [4, 5, 6]])  \n",
    "\n",
    "matrix2 = np.array([[7, 8],\n",
    "                    [9, 10],\n",
    "                    [11, 12]])  \n",
    "result = np.dot(matrix1, matrix2)\n",
    "\n",
    "print(\"Matrix 1:\")\n",
    "print(matrix1)\n",
    "print(\"\\nMatrix 2:\")\n",
    "print(matrix2)\n",
    "print(\"\\nResult of Matrix Multiplication:\")\n",
    "print(result)\n"
   ]
  },
  {
   "cell_type": "code",
   "execution_count": 27,
   "metadata": {},
   "outputs": [
    {
     "name": "stdout",
     "output_type": "stream",
     "text": [
      "Array: [694 569 639 202 845 773 717 369  19 733 287 764 814 609  80 482 610 406\n",
      " 324 715 496 561  97 184 610 859 687 547 855  82 787 926 125 986 765 719\n",
      " 857 441 458 860 109 994 187 765 807 669 157 920 433 298]\n",
      "10th Percentile: 123.4\n",
      "50th Percentile (Median): 610.0\n",
      "90th Percentile: 859.1\n",
      "First Quartile (25th Percentile): 335.25\n",
      "Third Quartile (75th Percentile): 771.0\n"
     ]
    }
   ],
   "source": [
    "#65. Create an array of 50 integers between 10 and 1000. Calculate the 10th, 50th (median), and 90th percentiles along with the first and third quartile\n",
    "import numpy as np\n",
    "np.random.seed(0)\n",
    "data = np.random.randint(10, 1001, size=50)\n",
    "\n",
    "percentile_10 = np.percentile(data, 10)\n",
    "percentile_50 = np.percentile(data, 50) \n",
    "percentile_90 = np.percentile(data, 90)\n",
    "first_quartile = np.percentile(data, 25)\n",
    "third_quartile = np.percentile(data, 75)\n",
    "\n",
    "print(\"Array:\", data)\n",
    "print(\"10th Percentile:\", percentile_10)\n",
    "print(\"50th Percentile (Median):\", percentile_50)\n",
    "print(\"90th Percentile:\", percentile_90)\n",
    "print(\"First Quartile (25th Percentile):\", first_quartile)\n",
    "print(\"Third Quartile (75th Percentile):\", third_quartile)\n"
   ]
  },
  {
   "cell_type": "code",
   "execution_count": 28,
   "metadata": {},
   "outputs": [
    {
     "name": "stdout",
     "output_type": "stream",
     "text": [
      "The index of 30 in the array is: 2\n"
     ]
    }
   ],
   "source": [
    "# Create a NumPy array of integers and find the index of a specific element.\n",
    "import numpy as np\n",
    "array = np.array([10, 20, 30, 40, 50])\n",
    "\n",
    "element_to_find = 30\n",
    "index = np.where(array == element_to_find)[0]\n",
    "\n",
    "if len(index) > 0:\n",
    "    print(f\"The index of {element_to_find} in the array is: {index[0]}\")\n",
    "else:\n",
    "    print(f\"{element_to_find} not found in the array.\")\n"
   ]
  },
  {
   "cell_type": "code",
   "execution_count": 29,
   "metadata": {},
   "outputs": [
    {
     "name": "stdout",
     "output_type": "stream",
     "text": [
      "Random Array: [66 10 58 33 32 75 24 36 76 56]\n",
      "Sorted Array (ascending order): [10 24 32 33 36 56 58 66 75 76]\n"
     ]
    }
   ],
   "source": [
    "#67. Generate a random NumPy array and sort it in ascending order\n",
    "import numpy as np\n",
    "random_array = np.random.randint(1, 100, size=10)\n",
    "sorted_array = np.sort(random_array)\n",
    "\n",
    "print(\"Random Array:\", random_array)\n",
    "print(\"Sorted Array (ascending order):\", sorted_array)\n"
   ]
  },
  {
   "cell_type": "code",
   "execution_count": 30,
   "metadata": {},
   "outputs": [
    {
     "name": "stdout",
     "output_type": "stream",
     "text": [
      "Original Array: [12 25  6 42  8 30]\n",
      "Filtered Array (elements > 20): [25 42 30]\n"
     ]
    }
   ],
   "source": [
    "# Filter elements >20  in the given NumPy array , arr = np.array([12, 25, 6, 42, 8, 30])\n",
    "import numpy as np\n",
    "arr = np.array([12, 25, 6, 42, 8, 30])\n",
    "filtered_array = arr[arr > 20]\n",
    "\n",
    "print(\"Original Array:\", arr)\n",
    "print(\"Filtered Array (elements > 20):\", filtered_array)\n"
   ]
  },
  {
   "cell_type": "code",
   "execution_count": 31,
   "metadata": {},
   "outputs": [
    {
     "name": "stdout",
     "output_type": "stream",
     "text": [
      "Original Array: [ 1  5  8 12 15]\n",
      "Filtered Array (elements divisible by 3): [12 15]\n"
     ]
    }
   ],
   "source": [
    "# Filter elements which are divisible by 3 from a given NumPy array , arr = np.array([1, 5, 8, 12, 15])\n",
    "import numpy as np\n",
    "arr = np.array([1, 5, 8, 12, 15])\n",
    "filtered_array = arr[arr % 3 == 0]\n",
    "\n",
    "print(\"Original Array:\", arr)\n",
    "print(\"Filtered Array (elements divisible by 3):\", filtered_array)\n"
   ]
  },
  {
   "cell_type": "code",
   "execution_count": 32,
   "metadata": {},
   "outputs": [
    {
     "name": "stdout",
     "output_type": "stream",
     "text": [
      "Original Array: [10 20 30 40 50]\n",
      "Filtered Array (elements ≥ 20 and ≤ 40): [20 30 40]\n"
     ]
    }
   ],
   "source": [
    "#. Filter elements which are ≥ 20 and ≤ 40 from a given NumPy array.\n",
    "# arr = np.array([10, 20, 30, 40, 50])\n",
    "import numpy as np\n",
    "\n",
    "arr = np.array([10, 20, 30, 40, 50])\n",
    "filtered_array = arr[(arr >= 20) & (arr <= 40)]\n",
    "\n",
    "print(\"Original Array:\", arr)\n",
    "print(\"Filtered Array (elements ≥ 20 and ≤ 40):\", filtered_array)\n"
   ]
  },
  {
   "cell_type": "code",
   "execution_count": 33,
   "metadata": {},
   "outputs": [
    {
     "name": "stdout",
     "output_type": "stream",
     "text": [
      "Byte Order: =\n"
     ]
    }
   ],
   "source": [
    "# For the given NumPy array, check its byte order using the `dtype` attribute byteorder.\n",
    "# arr = np.array([1, 2, 3])\n",
    "import numpy as np\n",
    "\n",
    "arr = np.array([1, 2, 3])\n",
    "byte_order = arr.dtype.byteorder\n",
    "\n",
    "print(\"Byte Order:\", byte_order)"
   ]
  },
  {
   "cell_type": "code",
   "execution_count": 34,
   "metadata": {},
   "outputs": [
    {
     "name": "stdout",
     "output_type": "stream",
     "text": [
      "Original Array: [1 2 3]\n",
      "Original Byte Order: =\n",
      "Array After Byte Swap: [16777216 33554432 50331648]\n",
      "Byte Order After Swap: =\n"
     ]
    }
   ],
   "source": [
    "# for the given numpy array, performs bytes swapping in place using 'byteswap()'.\n",
    "# arr = np.array([1,2,3], dtype  np.int32)\n",
    "import numpy as np\n",
    "arr = np.array([1, 2, 3], dtype=np.int32)\n",
    "\n",
    "print(\"Original Array:\", arr)\n",
    "print(\"Original Byte Order:\", arr.dtype.byteorder)\n",
    "arr.byteswap(True)\n",
    "\n",
    "print(\"Array After Byte Swap:\", arr)\n",
    "print(\"Byte Order After Swap:\", arr.dtype.byteorder)\n"
   ]
  },
  {
   "cell_type": "code",
   "execution_count": 35,
   "metadata": {},
   "outputs": [
    {
     "name": "stdout",
     "output_type": "stream",
     "text": [
      "Original Array: [1 2 3]\n",
      "Original Byte Order: =\n",
      "Array After Byte Swap: [1 2 3]\n",
      "Byte Order After Swap: >\n",
      "Original Array (unchanged): [1 2 3]\n"
     ]
    }
   ],
   "source": [
    "# for the given numpy array, swap its byte order without modifying the orginal array using 'newbyteorder()'.\n",
    "# arr = np.array([1, 2, 3], dtype=np.int32)\n",
    "import numpy as np\n",
    "arr = np.array([1, 2, 3], dtype=np.int32)\n",
    "\n",
    "print(\"Original Array:\", arr)\n",
    "print(\"Original Byte Order:\", arr.dtype.byteorder)\n",
    "\n",
    "swapped_arr = arr.byteswap().newbyteorder()\n",
    "\n",
    "print(\"Array After Byte Swap:\", swapped_arr)\n",
    "print(\"Byte Order After Swap:\", swapped_arr.dtype.byteorder)\n",
    "print(\"Original Array (unchanged):\", arr)\n"
   ]
  },
  {
   "cell_type": "code",
   "execution_count": 36,
   "metadata": {},
   "outputs": [
    {
     "name": "stdout",
     "output_type": "stream",
     "text": [
      "Byte swapping is not necessary (native byte order).\n",
      "Byte Order of Array: =\n",
      "Native Byte Order of System: <\n"
     ]
    }
   ],
   "source": [
    "# For the given NumPy array, check if byte swapping is necessary for the current system using `dtype` attribute `byteorder`\n",
    "# arr = np.array([1, 2, 3], dtype=np.int32)\n",
    "import numpy as np\n",
    "arr = np.array([1, 2, 3], dtype=np.int32)\n",
    "\n",
    "byte_order = arr.dtype.byteorder\n",
    "\n",
    "import sys\n",
    "native_byte_order = '<' if sys.byteorder == 'little' else '>'\n",
    "\n",
    "if byte_order == '=':\n",
    "    print(\"Byte swapping is not necessary (native byte order).\")\n",
    "elif byte_order != native_byte_order:\n",
    "    print(\"Byte swapping is necessary.\")\n",
    "else:\n",
    "    print(\"Byte swapping is not necessary (matching system byte order).\")\n",
    "\n",
    "print(\"Byte Order of Array:\", byte_order)\n",
    "print(\"Native Byte Order of System:\", native_byte_order)\n"
   ]
  },
  {
   "cell_type": "code",
   "execution_count": 37,
   "metadata": {},
   "outputs": [
    {
     "name": "stdout",
     "output_type": "stream",
     "text": [
      "Original Array (arr1): [ 1  2  3  4  5  6  7  8  9 10]\n",
      "Modified Copy (copy_arr): [99  2  3  4  5  6  7  8  9 10]\n"
     ]
    }
   ],
   "source": [
    "# Create a NumPy array `arr1` with values from 1 to 10. Create a copy of `arr1` named `copy_arr` and modify an element in `copy_arr`. Check if modifying `copy_arr` affects `arr1`\n",
    "import numpy as np \n",
    "arr1 = np.arange(1, 11)\n",
    "\n",
    "copy_arr = arr1.copy()\n",
    "copy_arr[0] = 99\n",
    "\n",
    "print(\"Original Array (arr1):\", arr1)\n",
    "print(\"Modified Copy (copy_arr):\", copy_arr)\n"
   ]
  },
  {
   "cell_type": "code",
   "execution_count": 38,
   "metadata": {},
   "outputs": [
    {
     "name": "stdout",
     "output_type": "stream",
     "text": [
      "Original Matrix (after modification through view_slice):\n",
      "[[999  35   1]\n",
      " [  1  37  54]\n",
      " [  6  39  18]]\n",
      "\n",
      "View Slice:\n",
      "[[999  35]\n",
      " [  1  37]]\n"
     ]
    }
   ],
   "source": [
    "#  Create a 2D NumPy array `matrix` of shape (3, 3) with random integers. Extract a slice `view_slice` from the matrix. Modify an element in `view_slice` and observe if it changes the original `matrix\n",
    "import numpy as np\n",
    "matrix = np.random.randint(1, 100, size=(3, 3))\n",
    "\n",
    "view_slice = matrix[0:2, 0:2]\n",
    "\n",
    "view_slice[0, 0] = 999\n",
    "\n",
    "print(\"Original Matrix (after modification through view_slice):\")\n",
    "print(matrix)\n",
    "print(\"\\nView Slice:\")\n",
    "print(view_slice)\n"
   ]
  },
  {
   "cell_type": "code",
   "execution_count": 39,
   "metadata": {},
   "outputs": [
    {
     "name": "stdout",
     "output_type": "stream",
     "text": [
      "Original Array (array_a) after modification through view_b:\n",
      "[[ 1  2  3]\n",
      " [ 4 10 11]\n",
      " [ 7 13 14]\n",
      " [10 11 12]]\n",
      "\n",
      "View Slice (view_b):\n",
      "[[10 11]\n",
      " [13 14]]\n"
     ]
    }
   ],
   "source": [
    "# Create a NumPy array `array_a` of shape (4, 3) with sequential integers from 1 to 12. Extract a slice `view_b` from `array_a` and broadcast the addition of 5 to view_b. Check if it alters the original `array_a\n",
    "import numpy as np\n",
    "array_a = np.arange(1, 13).reshape(4, 3)\n",
    "\n",
    "view_b = array_a[1:3, 1:3]\n",
    "\n",
    "view_b += 5\n",
    "print(\"Original Array (array_a) after modification through view_b:\")\n",
    "print(array_a)\n",
    "print(\"\\nView Slice (view_b):\")\n",
    "print(view_b)\n"
   ]
  },
  {
   "cell_type": "code",
   "execution_count": 40,
   "metadata": {},
   "outputs": [
    {
     "name": "stdout",
     "output_type": "stream",
     "text": [
      "Original Array (orig_array) after modification through reshaped_view:\n",
      "[[99  2  3  4]\n",
      " [ 5  6  7  8]]\n",
      "\n",
      "Reshaped View (reshaped_view):\n",
      "[[99  2]\n",
      " [ 3  4]\n",
      " [ 5  6]\n",
      " [ 7  8]]\n"
     ]
    }
   ],
   "source": [
    "#  Create a NumPy array `orig_array` of shape (2, 4) with values from 1 to 8. Create a reshaped view `reshaped_view` of shape (4, 2) from orig_array. Modify an element in `reshaped_view` and check if it reflects changes in the original `orig_array`\n",
    "import numpy as np\n",
    "orig_array = np.arange(1, 9).reshape(2, 4)\n",
    "\n",
    "reshaped_view = orig_array.reshape(4, 2)\n",
    "\n",
    "reshaped_view[0, 0] = 99\n",
    "\n",
    "print(\"Original Array (orig_array) after modification through reshaped_view:\")\n",
    "print(orig_array)\n",
    "print(\"\\nReshaped View (reshaped_view):\")\n",
    "print(reshaped_view)\n"
   ]
  },
  {
   "cell_type": "code",
   "execution_count": 41,
   "metadata": {},
   "outputs": [
    {
     "name": "stdout",
     "output_type": "stream",
     "text": [
      "Original Array (data):\n",
      "[[5 9 2 2]\n",
      " [8 4 7 8]\n",
      " [3 1 4 6]]\n",
      "\n",
      "Copy of Elements Greater Than 5 (data_copy):\n",
      "[9 8 7 8 6]\n",
      "\n",
      "Original Array (data) after modification of data_copy:\n",
      "[[5 9 2 2]\n",
      " [8 4 7 8]\n",
      " [3 1 4 6]]\n",
      "\n",
      "Modified Copy (data_copy):\n",
      "[99  8  7  8  6]\n"
     ]
    }
   ],
   "source": [
    "#  Create a NumPy array `data` of shape (3, 4) with random integers. Extract a copy `data_copy` of elements greater than 5. Modify an element in `data_copy` and verify if it affects the original `data\n",
    "import numpy as np\n",
    "data = np.random.randint(1, 10, size=(3, 4))\n",
    "data_copy = data[data > 5].copy()\n",
    "\n",
    "print(\"Original Array (data):\")\n",
    "print(data)\n",
    "print(\"\\nCopy of Elements Greater Than 5 (data_copy):\")\n",
    "print(data_copy)\n",
    "\n",
    "if data_copy.size > 0:\n",
    "    data_copy[0] = 99\n",
    "\n",
    "print(\"\\nOriginal Array (data) after modification of data_copy:\")\n",
    "print(data)\n",
    "print(\"\\nModified Copy (data_copy):\")\n",
    "print(data_copy)\n"
   ]
  },
  {
   "cell_type": "code",
   "execution_count": 42,
   "metadata": {},
   "outputs": [
    {
     "name": "stdout",
     "output_type": "stream",
     "text": [
      "Matrix C (3x2):\n",
      "[[5 5]\n",
      " [7 5]\n",
      " [5 4]]\n",
      "\n",
      "Matrix D (2x4):\n",
      "[[5 5 9 5]\n",
      " [4 8 6 6]]\n",
      "\n",
      "Result of Matrix Multiplication (C @ D):\n",
      "[[45 65 75 55]\n",
      " [55 75 93 65]\n",
      " [41 57 69 49]]\n"
     ]
    }
   ],
   "source": [
    "# Generate two matrices `C` (3x2) and `D` (2x4) and perform matrix multiplication.\n",
    "import numpy as np\n",
    "C = np.random.randint(1, 10, size=(3, 2))\n",
    "\n",
    "D = np.random.randint(1, 10, size=(2, 4))\n",
    "\n",
    "result = np.dot(C, D)\n",
    "\n",
    "print(\"Matrix C (3x2):\")\n",
    "print(C)\n",
    "print(\"\\nMatrix D (2x4):\")\n",
    "print(D)\n",
    "print(\"\\nResult of Matrix Multiplication (C @ D):\")\n",
    "print(result)\n"
   ]
  },
  {
   "cell_type": "code",
   "execution_count": 43,
   "metadata": {},
   "outputs": [
    {
     "name": "stdout",
     "output_type": "stream",
     "text": [
      "Matrix E:\n",
      "[[1 2 6 4]\n",
      " [1 6 1 2]\n",
      " [3 5 3 1]]\n",
      "\n",
      "Transpose of Matrix E:\n",
      "[[1 1 3]\n",
      " [2 6 5]\n",
      " [6 1 3]\n",
      " [4 2 1]]\n"
     ]
    }
   ],
   "source": [
    "# Create a matrix `E` and find its transpose.\n",
    "import numpy as np\n",
    "E = np.random.randint(1, 10, size=(3, 4))\n",
    "\n",
    "E_transpose = E.T\n",
    "\n",
    "print(\"Matrix E:\")\n",
    "print(E)\n",
    "print(\"\\nTranspose of Matrix E:\")\n",
    "print(E_transpose)"
   ]
  },
  {
   "cell_type": "code",
   "execution_count": 44,
   "metadata": {},
   "outputs": [
    {
     "name": "stdout",
     "output_type": "stream",
     "text": [
      "Matrix F:\n",
      "[[4 3 1]\n",
      " [8 6 1]\n",
      " [3 8 3]]\n",
      "\n",
      "Determinant of Matrix F:\n",
      "23.0\n"
     ]
    }
   ],
   "source": [
    "# Generate a square matrix `F` and compute its determinan.\n",
    "import numpy as np\n",
    "F = np.random.randint(1, 10, size=(3, 3))\n",
    "determinant = np.linalg.det(F)\n",
    "\n",
    "print(\"Matrix F:\")\n",
    "print(F)\n",
    "print(\"\\nDeterminant of Matrix F:\")\n",
    "print(determinant)\n"
   ]
  },
  {
   "cell_type": "code",
   "execution_count": 45,
   "metadata": {},
   "outputs": [
    {
     "name": "stdout",
     "output_type": "stream",
     "text": [
      "Matrix G:\n",
      "[[3 4 4]\n",
      " [3 4 5]\n",
      " [2 3 2]]\n",
      "\n",
      "Inverse of Matrix G:\n",
      "[[ 7. -4. -4.]\n",
      " [-4.  2.  3.]\n",
      " [-1.  1.  0.]]\n"
     ]
    }
   ],
   "source": [
    "# Create a square matrix `G` and find its inverse.\n",
    "import numpy as np\n",
    "G = np.random.randint(1, 10, size=(3, 3))\n",
    "\n",
    "try:\n",
    "    G_inverse = np.linalg.inv(G)\n",
    "except np.linalg.LinAlgError:\n",
    "    G_inverse = None\n",
    "\n",
    "print(\"Matrix G:\")\n",
    "print(G)\n",
    "\n",
    "if G_inverse is not None:\n",
    "    print(\"\\nInverse of Matrix G:\")\n",
    "    print(G_inverse)\n",
    "else:\n",
    "    print(\"\\nMatrix G is singular and does not have an inverse.\")"
   ]
  },
  {
   "cell_type": "markdown",
   "metadata": {},
   "source": [
    " THANK YOU......"
   ]
  }
 ],
 "metadata": {
  "kernelspec": {
   "display_name": "mynumpy",
   "language": "python",
   "name": "python3"
  },
  "language_info": {
   "codemirror_mode": {
    "name": "ipython",
    "version": 3
   },
   "file_extension": ".py",
   "mimetype": "text/x-python",
   "name": "python",
   "nbconvert_exporter": "python",
   "pygments_lexer": "ipython3",
   "version": "3.12.2"
  }
 },
 "nbformat": 4,
 "nbformat_minor": 2
}
